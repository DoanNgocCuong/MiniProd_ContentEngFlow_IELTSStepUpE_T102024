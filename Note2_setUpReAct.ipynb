{
 "cells": [
  {
   "cell_type": "markdown",
   "metadata": {},
   "source": [
    "```bash\n",
    "npm install axios react-data-grid\n",
    "```\n",
    "Lần set up đầu khi chưa có package.json\n",
    "\n",
    "Chạy xong 1 cái nó tự động ra 1 loạt: node_modules, package-lock.json, package.json, public, src -))))\n",
    "\n",
    "Chi tiết hơn thì \n",
    "```bash\n",
    "create-react-app frontend\n",
    "cd frontend\n",
    "npm install axios react-data-grid\n",
    "```\n",
    "\n",
    "- Khi có package.json rồi thì cài đặt rùi:\n",
    "```bash\n",
    "npm install\n",
    "```\n",
    "Chạy frontend:\n",
    "```bash\n",
    "npm start\n",
    "``` \n",
    "\n"
   ]
  },
  {
   "cell_type": "code",
   "execution_count": null,
   "metadata": {},
   "outputs": [],
   "source": []
  }
 ],
 "metadata": {
  "language_info": {
   "name": "python"
  }
 },
 "nbformat": 4,
 "nbformat_minor": 2
}
